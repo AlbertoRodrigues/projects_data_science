{
 "cells": [
  {
   "cell_type": "markdown",
   "metadata": {},
   "source": [
    "# Alberto Rodrigues Ferreira\n",
    "# e-mail: albertor.stats@gmail.com"
   ]
  },
  {
   "cell_type": "markdown",
   "metadata": {},
   "source": [
    "## Este projeto é baseado em uma competição do kaggle. link: https://www.kaggle.com/c/santander-customer-satisfaction/overview"
   ]
  },
  {
   "cell_type": "markdown",
   "metadata": {},
   "source": [
    "## 1. Introdução\n",
    "#### Neste trabalho, elaboramos uma análise de dados completa com o objetivo de predizer se clientes serão satisfeitos ou insatisfeitos no inicio do seu relacionamento do banco Santader. Realizamos alguns pré-processamentos que diminuíram a quantidade variáveis, em seguida realizamos uma análise exploratória de algumas das principais variáveis que possivelmente irão influenciar nos modelos preditivos abordados, identificamos que há um grande problema de desbalanceamento dos dados e tentamos contornar isso optando por um algoritmo do tipo UnderSampling. Existe um grande problema bastante evidente que é a grande quantidade de variáveis, realizamos uma seleção de variáveis utilizando da técnica de informação mútua, que estima a dependência de duas variáveis aleatórias. Por fim, testamos 6 modelos preditivos com o método de otimização de hiperparâmetros RandomSearch e decidimos qual o melhor modelo com base na métrica F1 Score."
   ]
  },
  {
   "cell_type": "markdown",
   "metadata": {},
   "source": [
    "* Descrição do problema\n",
    "#### O problema consister em prever se um cliente é satisfeito ou insatisfeito com base em uma série de variáveis, logo é um problema de classificação. Isso é importante para o banco pois assim que identificado um cliente insatisfeito, poderá será tomada alguma providência imediata para que o cliente não deixe de ser cliente.\n",
    "\n",
    "\n",
    "* Descrição do conjunto de dados\n",
    "#### Nesse trabalho, temos um conjunto de 76020 observações e 370 variáveis explicativas que são anônimas, ou seja, não sabemos o real significado das variáveis. "
   ]
  },
  {
   "cell_type": "markdown",
   "metadata": {},
   "source": [
    "# 2. Pré-processamento\n",
    "\n",
    "#### Nesta etapa, foi realizadas alguns procedimentos com os dados com o objetivo de melhorar a qualidade, custo computacional dos algoritmos e obter melhores predições. Houve uma separação entre conjunto de treino(80\\%) e teste(20\\%) do conjunto de dados, no conjunto de teste serão realizados os mesmos processos que o conjunto de treino mas só será utilizado na verificação das métricas abordadas, é o conjunto que não faremos nenhuma intervenção de otimização."
   ]
  },
  {
   "cell_type": "code",
   "execution_count": null,
   "metadata": {},
   "outputs": [],
   "source": []
  },
  {
   "cell_type": "code",
   "execution_count": null,
   "metadata": {},
   "outputs": [],
   "source": []
  },
  {
   "cell_type": "code",
   "execution_count": null,
   "metadata": {},
   "outputs": [],
   "source": []
  },
  {
   "cell_type": "code",
   "execution_count": null,
   "metadata": {},
   "outputs": [],
   "source": []
  }
 ],
 "metadata": {
  "kernelspec": {
   "display_name": "Python 3",
   "language": "python",
   "name": "python3"
  },
  "language_info": {
   "codemirror_mode": {
    "name": "ipython",
    "version": 3
   },
   "file_extension": ".py",
   "mimetype": "text/x-python",
   "name": "python",
   "nbconvert_exporter": "python",
   "pygments_lexer": "ipython3",
   "version": "3.8.3"
  }
 },
 "nbformat": 4,
 "nbformat_minor": 4
}
